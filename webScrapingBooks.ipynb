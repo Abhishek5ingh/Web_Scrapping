{
 "cells": [
  {
   "cell_type": "code",
   "execution_count": 5,
   "id": "b06a41cf",
   "metadata": {},
   "outputs": [],
   "source": [
    "from bs4 import BeautifulSoup\n",
    "import pandas as pd\n",
    "import requests\n",
    "import re"
   ]
  },
  {
   "cell_type": "code",
   "execution_count": null,
   "id": "765ae88c",
   "metadata": {},
   "outputs": [
    {
     "name": "stdout",
     "output_type": "stream",
     "text": [
      "Page loaded successfully\n"
     ]
    }
   ],
   "source": [
    "# importing books details from books.toscrape.com\n",
    "url = 'http://books.toscrape.com/catalogue/category/books/history_32/index.html'\n",
    "headers = {\n",
    "    'User-Agent': 'Mozilla/5.0 (Windows NT 10.0; Win64; x64) AppleWebKit/537.36 (KHTML, like Gecko) Chrome/115.0.0.0 Safari/537.36'\n",
    "}\n",
    "response = requests.get(url,headers=headers)\n",
    "\n",
    "if response.status_code != 200: \n",
    "    raise Exception(f\"Failed to load page with status code: {response.status_code}\")\n",
    "else:\n",
    "    print(\"Page loaded successfully\")\n",
    "\n",
    "soup = BeautifulSoup(response.text, \"html.parser\")"
   ]
  },
  {
   "cell_type": "code",
   "execution_count": null,
   "id": "08f6ed19",
   "metadata": {},
   "outputs": [
    {
     "name": "stdout",
     "output_type": "stream",
     "text": [
      "Book Name: Sapiens: A Brief History of Humankind\n",
      "Price: Â£54.23\n",
      "Availability: In stock\n",
      "Book Name: Unbound: How Eight Technologies Made Us Human, Transformed Society, and Brought Our World to the Brink\n",
      "Price: Â£25.52\n",
      "Availability: In stock\n",
      "Book Name: The Age of Genius: The Seventeenth Century and the Birth of the Modern Mind\n",
      "Price: Â£19.73\n",
      "Availability: In stock\n",
      "Book Name: Political Suicide: Missteps, Peccadilloes, Bad Calls, Backroom Hijinx, Sordid Pasts, Rotten Breaks, and Just Plain Dumb Mistakes in the Annals of American Politics\n",
      "Price: Â£36.28\n",
      "Availability: In stock\n",
      "Book Name: Thomas Jefferson and the Tripoli Pirates: The Forgotten War That Changed American History\n",
      "Price: Â£59.64\n",
      "Availability: In stock\n",
      "Book Name: Zealot: The Life and Times of Jesus of Nazareth\n",
      "Price: Â£24.70\n",
      "Availability: In stock\n",
      "Book Name: A Distant Mirror: The Calamitous 14th Century\n",
      "Price: Â£14.58\n",
      "Availability: In stock\n",
      "Book Name: 1491: New Revelations of the Americas Before Columbus\n",
      "Price: Â£21.80\n",
      "Availability: In stock\n",
      "Book Name: Brilliant Beacons: A History of the American Lighthouse\n",
      "Price: Â£11.45\n",
      "Availability: In stock\n",
      "Book Name: \"Most Blessed of the Patriarchs\": Thomas Jefferson and the Empire of the Imagination\n",
      "Price: Â£44.48\n",
      "Availability: In stock\n",
      "Book Name: A Short History of Nearly Everything\n",
      "Price: Â£52.40\n",
      "Availability: In stock\n",
      "Book Name: The Rise and Fall of the Third Reich: A History of Nazi Germany\n",
      "Price: Â£39.67\n",
      "Availability: In stock\n",
      "Book Name: Catherine the Great: Portrait of a Woman\n",
      "Price: Â£58.55\n",
      "Availability: In stock\n",
      "Book Name: The Mathews Men: Seven Brothers and the War Against Hitler's U-boats\n",
      "Price: Â£42.91\n",
      "Availability: In stock\n",
      "Book Name: The Hiding Place\n",
      "Price: Â£55.91\n",
      "Availability: In stock\n",
      "Book Name: America's War for the Greater Middle East: A Military History\n",
      "Price: Â£51.22\n",
      "Availability: In stock\n",
      "Book Name: The Guns of August\n",
      "Price: Â£14.54\n",
      "Availability: In stock\n",
      "Book Name: House of Lost Worlds: Dinosaurs, Dynasties, and the Story of Life on Earth\n",
      "Price: Â£43.70\n",
      "Availability: In stock\n"
     ]
    }
   ],
   "source": [
    "books = soup.select(\"li.col-xs-6.col-sm-4.col-md-3.col-lg-3\")\n",
    "#print(books)\n",
    "name = [book.h3.a['title'] for book in books]\n",
    "\n",
    "for book in books:\n",
    "    name = book.h3.a['title']\n",
    "    price = book.select_one('p.price_color').text\n",
    "    is_available = book.select_one('p.instock.availability').text.strip()\n",
    "    \n",
    "    print(f'Book Name: {name}')\n",
    "    print(f'Price: {price}')\n",
    "    print(f'Availability: {is_available}')\n",
    "\n",
    "#book_name = soup.h3.a['title']\n",
    "#print(book_name)\n",
    "#crew = [a.attrs.get('title') for a in soup.select('td.titleColumn a')]\n",
    "#ratings = [b.attrs.get('data-value') \n",
    "#           for b in soup.select('td.posterColumn span[name=ir]')]\n",
    "\n"
   ]
  }
 ],
 "metadata": {
  "kernelspec": {
   "display_name": "base",
   "language": "python",
   "name": "python3"
  },
  "language_info": {
   "codemirror_mode": {
    "name": "ipython",
    "version": 3
   },
   "file_extension": ".py",
   "mimetype": "text/x-python",
   "name": "python",
   "nbconvert_exporter": "python",
   "pygments_lexer": "ipython3",
   "version": "3.12.7"
  }
 },
 "nbformat": 4,
 "nbformat_minor": 5
}
